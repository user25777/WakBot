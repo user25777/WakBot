{
 "cells": [
  {
   "cell_type": "code",
   "execution_count": null,
   "metadata": {},
   "outputs": [],
   "source": [
    "import cv2\n",
    "import pyautogui\n",
    "import numpy as np\n",
    "import mouse\n",
    "from time import time, sleep\n",
    "import mss\n"
   ]
  },
  {
   "cell_type": "code",
   "execution_count": null,
   "metadata": {},
   "outputs": [],
   "source": []
  },
  {
   "cell_type": "code",
   "execution_count": null,
   "metadata": {},
   "outputs": [],
   "source": [
    "farm_image = cv2.imread(\"campof2.png\", cv2.IMREAD_UNCHANGED)\n"
   ]
  },
  {
   "cell_type": "code",
   "execution_count": null,
   "metadata": {},
   "outputs": [],
   "source": [
    "cv2.imshow(\"ma\", farm_image)\n",
    "cv2.waitKey()\n",
    "cv2.destroyAllWindows()"
   ]
  },
  {
   "cell_type": "code",
   "execution_count": 32,
   "metadata": {},
   "outputs": [],
   "source": [
    "ortiga_image = cv2.imread(\"ortigaf.png\", cv2.IMREAD_UNCHANGED)\n",
    "result_ortiga = cv2.matchTemplate(farm_image, ortiga_image, cv2.TM_CCOEFF_NORMED)\n",
    "min_val, max_val, min_loc, max_loc = cv2.minMaxLoc(result_ortiga)\n",
    "w = ortiga_image.shape[1]\n",
    "h = ortiga_image.shape[0]\n",
    "#cv2.rectangle(farm_image, max_loc, (max_loc[0] + w, max_loc[1] + h), (0, 255, 255), 2)\n",
    "thold = .60\n",
    "yloc, xloc = np.where(result_ortiga >= thold)\n",
    "#for (x,y) in zip(xloc, yloc):\n",
    " #   cv2.rectangle(farm_image, (x,y), (x + w, y + h), (255, 255, 255, 2))\n",
    "rectangles = []\n",
    "for (x,y) in zip(xloc, yloc):\n",
    "    rectangles.append([int(x), int(y), int(w), int(h)])\n",
    "    rectangles.append([int(x), int(y), int(w), int(h)])\n",
    "rectangles, weigths = cv2.groupRectangles(rectangles, 1, 0.2)\n"
   ]
  },
  {
   "cell_type": "code",
   "execution_count": null,
   "metadata": {},
   "outputs": [],
   "source": [
    "pyautogui.moveTo(rectangles[0][0],rectangles[0][1] ) # mueve a las coordenadas X y Y de la primera planta reconocida\n"
   ]
  },
  {
   "cell_type": "code",
   "execution_count": 9,
   "metadata": {},
   "outputs": [],
   "source": [
    "flor_image = cv2.imread(\"florf.png\", cv2.IMREAD_UNCHANGED)\n",
    "result_flor = cv2.matchTemplate(farm_image, flor_image, cv2.TM_CCOEFF_NORMED)\n",
    "min_val1, max_val1, min_loc1, max_loc1 = cv2.minMaxLoc(result_flor)\n",
    "w1 = flor_image.shape[1]\n",
    "h1 = flor_image.shape[0]\n",
    "#cv2.rectangle(farm_image, max_loc1, (max_loc1[0] + w2, max_loc1[1] + h2), (0, 255, 255), 2)\n",
    "thold1 = .60\n",
    "yloc1, xloc1 = np.where(result_flor >= thold1)\n",
    "\n",
    "#for (x1,y1) in zip(xloc1, yloc1):\n",
    " #   cv2.rectangle(farm_image, (x1,y1), (x1 + w1, y1 + h1), (255, 0, 255, 2))\n",
    "\n",
    "rectangles1 = []\n",
    "for (x1,y1) in zip(xloc1, yloc1):\n",
    "    rectangles1.append([int(x1), int(y1), int(w1), int(h1)])\n",
    "    rectangles1.append([int(x1), int(y1), int(w1), int(h1)])\n",
    "rectangles1, weigths1 = cv2.groupRectangles(rectangles1, 1, 0.2)\n"
   ]
  },
  {
   "cell_type": "code",
   "execution_count": 10,
   "metadata": {},
   "outputs": [],
   "source": [
    "musgo_image = cv2.imread(\"musgof.png\", cv2.IMREAD_UNCHANGED)\n",
    "result_musgo = cv2.matchTemplate(farm_image, musgo_image, cv2.TM_CCOEFF_NORMED)\n",
    "min_val2, max_val2, min_loc2, max_loc2 = cv2.minMaxLoc(result_musgo)\n",
    "w2 = musgo_image.shape[1]\n",
    "h2 = musgo_image.shape[0]\n",
    "#cv2.rectangle(farm_image, max_loc1, (max_loc1[0] + w2, max_loc1[1] + h2), (0, 255, 255), 2)\n",
    "thold2 = .60\n",
    "yloc2, xloc2 = np.where(result_musgo >= thold2)\n",
    "\n",
    "#for (x2,y2) in zip(xloc2, yloc2):\n",
    " #   cv2.rectangle(farm_image, (x2,y2), (x2 + w2, y2 + h2), (255, 0, 0, 2))\n",
    "\n",
    "rectangles2 = []\n",
    "for (x2,y2) in zip(xloc2, yloc2):\n",
    "    rectangles2.append([int(x2), int(y2), int(w2), int(h2)])\n",
    "    rectangles2.append([int(x2), int(y2), int(w2), int(h2)])\n",
    "rectangles2, weigths2 = cv2.groupRectangles(rectangles2, 1, 0.2)\n"
   ]
  },
  {
   "cell_type": "code",
   "execution_count": 11,
   "metadata": {},
   "outputs": [],
   "source": [
    "gracia_image = cv2.imread(\"graciaf.png\", cv2.IMREAD_UNCHANGED)\n",
    "result_gracia = cv2.matchTemplate(farm_image, gracia_image, cv2.TM_CCOEFF_NORMED)\n",
    "min_val3, max_val3, min_loc3, max_loc3 = cv2.minMaxLoc(result_gracia)\n",
    "w3 = gracia_image.shape[1]\n",
    "h3 = gracia_image.shape[0]\n",
    "#cv2.rectangle(farm_image, max_loc1, (max_loc1[0] + w2, max_loc1[1] + h2), (0, 255, 255), 2)\n",
    "thold3 = .60\n",
    "yloc3, xloc3 = np.where(result_gracia >= thold3)\n",
    "\n",
    "#for (x3,y3) in zip(xloc3, yloc3):\n",
    " #   cv2.rectangle(farm_image, (x3,y3), (x3 + w3, y3 + h3), (0, 0, 255, 2))\n",
    "\n",
    "rectangles3 = []\n",
    "for (x3,y3) in zip(xloc3, yloc3):\n",
    "    rectangles3.append([int(x3), int(y3), int(w3), int(h3)])\n",
    "    rectangles3.append([int(x3), int(y3), int(w3), int(h3)])\n",
    "rectangles3, weigths3 = cv2.groupRectangles(rectangles3, 1, 0.2)\n"
   ]
  },
  {
   "cell_type": "code",
   "execution_count": 22,
   "metadata": {},
   "outputs": [
    {
     "ename": "KeyboardInterrupt",
     "evalue": "",
     "output_type": "error",
     "traceback": [
      "\u001b[1;31m---------------------------------------------------------------------------\u001b[0m",
      "\u001b[1;31mKeyboardInterrupt\u001b[0m                         Traceback (most recent call last)",
      "\u001b[1;32m<ipython-input-22-d11377c304a8>\u001b[0m in \u001b[0;36m<module>\u001b[1;34m\u001b[0m\n\u001b[0;32m     13\u001b[0m     \u001b[0mmin_val1\u001b[0m\u001b[1;33m,\u001b[0m \u001b[0mmax_val1\u001b[0m\u001b[1;33m,\u001b[0m \u001b[0mmin_loc1\u001b[0m\u001b[1;33m,\u001b[0m \u001b[0mmax_loc1\u001b[0m \u001b[1;33m=\u001b[0m \u001b[0mcv2\u001b[0m\u001b[1;33m.\u001b[0m\u001b[0mminMaxLoc\u001b[0m\u001b[1;33m(\u001b[0m\u001b[0mresult_tijera\u001b[0m\u001b[1;33m)\u001b[0m\u001b[1;33m\u001b[0m\u001b[1;33m\u001b[0m\u001b[0m\n\u001b[0;32m     14\u001b[0m     \u001b[0mpyautogui\u001b[0m\u001b[1;33m.\u001b[0m\u001b[0mclick\u001b[0m\u001b[1;33m(\u001b[0m\u001b[0mx\u001b[0m \u001b[1;33m=\u001b[0m \u001b[0mmax_loc1\u001b[0m\u001b[1;33m[\u001b[0m\u001b[1;36m0\u001b[0m\u001b[1;33m]\u001b[0m\u001b[1;33m+\u001b[0m \u001b[1;36m10\u001b[0m\u001b[1;33m,\u001b[0m \u001b[0my\u001b[0m \u001b[1;33m=\u001b[0m \u001b[0mmax_loc1\u001b[0m\u001b[1;33m[\u001b[0m\u001b[1;36m1\u001b[0m\u001b[1;33m]\u001b[0m \u001b[1;33m+\u001b[0m \u001b[1;36m30\u001b[0m\u001b[1;33m)\u001b[0m\u001b[1;33m\u001b[0m\u001b[1;33m\u001b[0m\u001b[0m\n\u001b[1;32m---> 15\u001b[1;33m     \u001b[0msleep\u001b[0m\u001b[1;33m(\u001b[0m\u001b[1;36m3.2\u001b[0m\u001b[1;33m)\u001b[0m\u001b[1;33m\u001b[0m\u001b[1;33m\u001b[0m\u001b[0m\n\u001b[0m",
      "\u001b[1;31mKeyboardInterrupt\u001b[0m: "
     ]
    }
   ],
   "source": [
    "#Recolecta gracia\n",
    "\n",
    "for _ in range(100):\n",
    "    sleep(2)\n",
    "    scr = numpy.array(sct.grab(monitor)) # toma de pantalla \n",
    "    result_gracia = cv2.matchTemplate(scr, gracia_image, cv2.TM_CCOEFF_NORMED)\n",
    "    min_val, max_val, min_loc, max_loc = cv2.minMaxLoc(result_gracia)\n",
    "    pyautogui.click(x = max_loc[0]+ 35, y = max_loc[1] + 55, button='right' )\n",
    "    sleep(0.5)\n",
    "    #recolección\n",
    "    scr = numpy.array(sct.grab(monitor)) # toma de pantalla \n",
    "    result_tijera = cv2.matchTemplate(scr, tijera_image, cv2.TM_CCOEFF_NORMED)\n",
    "    min_val1, max_val1, min_loc1, max_loc1 = cv2.minMaxLoc(result_tijera)\n",
    "    pyautogui.click(x = max_loc1[0]+ 10, y = max_loc1[1] + 30)\n",
    "    sleep(3.2)"
   ]
  },
  {
   "cell_type": "code",
   "execution_count": 12,
   "metadata": {},
   "outputs": [],
   "source": [
    "tijera_image = cv2.imread(\"tijeras.png\", cv2.IMREAD_UNCHANGED)\n",
    "result_tijera = cv2.matchTemplate(farm_image, tijera_image, cv2.TM_CCOEFF_NORMED)\n",
    "min_val4, max_val4, min_loc4, max_loc4 = cv2.minMaxLoc(result_tijera)\n",
    "w4 = tijera_image.shape[1]\n",
    "h4 = tijera_image.shape[0]\n",
    "\n",
    "\n",
    "thold4 = .60\n",
    "yloc4, xloc4 = np.where(result_tijera >= thold4)\n",
    "\n",
    "\n"
   ]
  },
  {
   "cell_type": "code",
   "execution_count": 13,
   "metadata": {},
   "outputs": [],
   "source": [
    "mano_image = cv2.imread(\"mano.png\", cv2.IMREAD_UNCHANGED)\n",
    "result_mano = cv2.matchTemplate(farm_image, mano_image, cv2.TM_CCOEFF_NORMED)\n",
    "min_val5, max_val5, min_loc5, max_loc5 = cv2.minMaxLoc(result_mano)\n",
    "w5 = mano_image.shape[1]\n",
    "h5 = mano_image.shape[0]\n",
    "\n",
    "thold5 = .60\n",
    "yloc5, xloc5 = np.where(result_mano >= thold5)\n",
    "\n",
    "\n"
   ]
  },
  {
   "cell_type": "code",
   "execution_count": 14,
   "metadata": {},
   "outputs": [],
   "source": [
    "for (x,y, w,h) in rectangles:\n",
    "    cv2.rectangle(farm_image, (x,y), (x + w, y + h), (255, 255, 255, 2))"
   ]
  },
  {
   "cell_type": "code",
   "execution_count": 15,
   "metadata": {},
   "outputs": [],
   "source": [
    "for (x,y, w,h) in rectangles1:\n",
    "    cv2.rectangle(farm_image, (x,y), (x + w, y + h), (255, 0, 255, 2))"
   ]
  },
  {
   "cell_type": "code",
   "execution_count": 16,
   "metadata": {},
   "outputs": [],
   "source": [
    "for (x,y, w,h) in rectangles2:\n",
    "    cv2.rectangle(farm_image, (x,y), (x + w, y + h), (255, 0, 0, 2))\n"
   ]
  },
  {
   "cell_type": "code",
   "execution_count": 17,
   "metadata": {},
   "outputs": [],
   "source": [
    "for (x,y, w,h) in rectangles3:\n",
    "    cv2.rectangle(farm_image, (x,y), (x + w, y + h), (0, 0, 255, 2))\n"
   ]
  },
  {
   "cell_type": "code",
   "execution_count": 18,
   "metadata": {},
   "outputs": [
    {
     "data": {
      "text/plain": [
       "array([[[ 82, 102, 107, 255],\n",
       "        [ 85, 105, 111, 255],\n",
       "        [ 85, 105, 110, 255],\n",
       "        ...,\n",
       "        [ 90, 109, 116, 255],\n",
       "        [ 90, 109, 116, 255],\n",
       "        [ 90, 109, 116, 255]],\n",
       "\n",
       "       [[ 85, 107, 112, 255],\n",
       "        [153, 174, 181, 255],\n",
       "        [163, 173, 177, 255],\n",
       "        ...,\n",
       "        [159, 171, 174, 255],\n",
       "        [159, 171, 174, 255],\n",
       "        [159, 171, 174, 255]],\n",
       "\n",
       "       [[ 85, 106, 111, 255],\n",
       "        [157, 178, 184, 255],\n",
       "        [228, 231, 231, 255],\n",
       "        ...,\n",
       "        [220, 222, 222, 255],\n",
       "        [220, 222, 222, 255],\n",
       "        [220, 222, 222, 255]],\n",
       "\n",
       "       ...,\n",
       "\n",
       "       [[ 81, 101, 107, 255],\n",
       "        [159, 180, 186, 255],\n",
       "        [221, 224, 224, 255],\n",
       "        ...,\n",
       "        [  0,   0,   0, 255],\n",
       "        [  0,   0,   0, 255],\n",
       "        [  0,   0,   0, 255]],\n",
       "\n",
       "       [[ 81, 101, 107, 255],\n",
       "        [159, 180, 186, 255],\n",
       "        [221, 224, 224, 255],\n",
       "        ...,\n",
       "        [  0,   0,   0, 255],\n",
       "        [  0,   0,   0, 255],\n",
       "        [  0,   0,   0, 255]],\n",
       "\n",
       "       [[ 81, 101, 107, 255],\n",
       "        [159, 180, 186, 255],\n",
       "        [221, 224, 224, 255],\n",
       "        ...,\n",
       "        [  0,   0,   0, 255],\n",
       "        [  0,   0,   0, 255],\n",
       "        [  0,   0,   0, 255]]], dtype=uint8)"
      ]
     },
     "execution_count": 18,
     "metadata": {},
     "output_type": "execute_result"
    }
   ],
   "source": [
    "cv2.rectangle(farm_image, max_loc4, (max_loc4[0] + w4, max_loc4[1] + h4), (255, 0, 100), 2)"
   ]
  },
  {
   "cell_type": "code",
   "execution_count": 19,
   "metadata": {},
   "outputs": [
    {
     "data": {
      "text/plain": [
       "array([[[ 82, 102, 107, 255],\n",
       "        [ 85, 105, 111, 255],\n",
       "        [ 85, 105, 110, 255],\n",
       "        ...,\n",
       "        [ 90, 109, 116, 255],\n",
       "        [ 90, 109, 116, 255],\n",
       "        [ 90, 109, 116, 255]],\n",
       "\n",
       "       [[ 85, 107, 112, 255],\n",
       "        [153, 174, 181, 255],\n",
       "        [163, 173, 177, 255],\n",
       "        ...,\n",
       "        [159, 171, 174, 255],\n",
       "        [159, 171, 174, 255],\n",
       "        [159, 171, 174, 255]],\n",
       "\n",
       "       [[ 85, 106, 111, 255],\n",
       "        [157, 178, 184, 255],\n",
       "        [228, 231, 231, 255],\n",
       "        ...,\n",
       "        [220, 222, 222, 255],\n",
       "        [220, 222, 222, 255],\n",
       "        [220, 222, 222, 255]],\n",
       "\n",
       "       ...,\n",
       "\n",
       "       [[ 81, 101, 107, 255],\n",
       "        [159, 180, 186, 255],\n",
       "        [221, 224, 224, 255],\n",
       "        ...,\n",
       "        [  0,   0,   0, 255],\n",
       "        [  0,   0,   0, 255],\n",
       "        [  0,   0,   0, 255]],\n",
       "\n",
       "       [[ 81, 101, 107, 255],\n",
       "        [159, 180, 186, 255],\n",
       "        [221, 224, 224, 255],\n",
       "        ...,\n",
       "        [  0,   0,   0, 255],\n",
       "        [  0,   0,   0, 255],\n",
       "        [  0,   0,   0, 255]],\n",
       "\n",
       "       [[ 81, 101, 107, 255],\n",
       "        [159, 180, 186, 255],\n",
       "        [221, 224, 224, 255],\n",
       "        ...,\n",
       "        [  0,   0,   0, 255],\n",
       "        [  0,   0,   0, 255],\n",
       "        [  0,   0,   0, 255]]], dtype=uint8)"
      ]
     },
     "execution_count": 19,
     "metadata": {},
     "output_type": "execute_result"
    }
   ],
   "source": [
    "cv2.rectangle(farm_image, max_loc5, (max_loc5[0] + w5, max_loc5[1] + h5), (255, 100, 100), 2)"
   ]
  },
  {
   "cell_type": "code",
   "execution_count": 20,
   "metadata": {},
   "outputs": [],
   "source": [
    "cv2.imshow(\"ma\", farm_image)\n",
    "cv2.waitKey()\n",
    "cv2.destroyAllWindows()"
   ]
  },
  {
   "cell_type": "code",
   "execution_count": 12,
   "metadata": {},
   "outputs": [],
   "source": []
  },
  {
   "cell_type": "code",
   "execution_count": null,
   "metadata": {},
   "outputs": [],
   "source": [
    "# graba los movimientos del mouse\n",
    "events = mouse.record()\n"
   ]
  },
  {
   "cell_type": "code",
   "execution_count": null,
   "metadata": {},
   "outputs": [],
   "source": [
    "sleep(0.5)\n",
    "mouse.play(events[:-1])"
   ]
  },
  {
   "cell_type": "code",
   "execution_count": null,
   "metadata": {},
   "outputs": [],
   "source": []
  },
  {
   "cell_type": "code",
   "execution_count": 1,
   "metadata": {},
   "outputs": [
    {
     "name": "stdout",
     "output_type": "stream",
     "text": [
      "Processing c:\\users\\bryanc\\appdata\\local\\pip\\cache\\wheels\\54\\04\\f7\\55704a9d374ed923785a4fdc0ef00151fa25306b3b93345532\\pyautogui-0.9.53-py3-none-any.whl\n",
      "Processing c:\\users\\bryanc\\appdata\\local\\pip\\cache\\wheels\\91\\e3\\04\\184bda98ec7f7d5f0ba1f372bcf7b3ba86325151ae1dd690fe\\pygetwindow-0.0.9-py3-none-any.whl\n",
      "Processing c:\\users\\bryanc\\appdata\\local\\pip\\cache\\wheels\\f7\\91\\eb\\c0fa176c095c77460a579ef339f24a377474b041e5543d1a00\\pyscreeze-0.1.27-py3-none-any.whl\n",
      "Processing c:\\users\\bryanc\\appdata\\local\\pip\\cache\\wheels\\e7\\50\\20\\790fbd95739abfdf0348bef99d5cc0c7c2930a19a91f602ddc\\pytweening-1.0.3-py3-none-any.whl\n",
      "Requirement already satisfied: pymsgbox in c:\\users\\bryanc\\anaconda3\\lib\\site-packages (from pyautogui) (1.0.9)\n",
      "Processing c:\\users\\bryanc\\appdata\\local\\pip\\cache\\wheels\\d1\\72\\fb\\35f403de66285df8ecca7049bcc61bfb57aba0f76d1f08f7eb\\mouseinfo-0.1.3-py3-none-any.whl\n",
      "Requirement already satisfied: pyrect in c:\\users\\bryanc\\anaconda3\\lib\\site-packages (from pygetwindow>=0.0.5->pyautogui) (0.1.4)\n",
      "Requirement already satisfied: Pillow>=6.2.1; python_version == \"3.8\" in c:\\users\\bryanc\\anaconda3\\lib\\site-packages (from pyscreeze>=0.1.21->pyautogui) (7.2.0)\n",
      "Processing c:\\users\\bryanc\\appdata\\local\\pip\\cache\\wheels\\7f\\1a\\65\\84ff8c386bec21fca6d220ea1f5498a0367883a78dd5ba6122\\pyperclip-1.8.2-py3-none-any.whl\n",
      "Installing collected packages: pygetwindow, pyscreeze, PyTweening, pyperclip, mouseinfo, pyautogui\n",
      "  Attempting uninstall: pyperclip\n",
      "    Found existing installation: pyperclip 1.8.2\n",
      "    Uninstalling pyperclip-1.8.2:\n",
      "      Successfully uninstalled pyperclip-1.8.2\n",
      "Successfully installed PyTweening-1.0.3 mouseinfo-0.1.3 pyautogui-0.9.53 pygetwindow-0.0.9 pyperclip-1.8.2 pyscreeze-0.1.27\n"
     ]
    },
    {
     "name": "stderr",
     "output_type": "stream",
     "text": [
      "ERROR: pygetwindow 0.0.9 requires pyrect, which is not installed.\n",
      "ERROR: pyautogui 0.9.53 requires pymsgbox, which is not installed.\n"
     ]
    }
   ],
   "source": []
  },
  {
   "cell_type": "code",
   "execution_count": 23,
   "metadata": {},
   "outputs": [],
   "source": []
  },
  {
   "cell_type": "code",
   "execution_count": 26,
   "metadata": {},
   "outputs": [],
   "source": [
    "pyautogui.moveTo(rectangles[0][0],rectangles[0][1] ) # mueve a las coordenadas X y Y de la primera planta reconocida\n"
   ]
  },
  {
   "cell_type": "code",
   "execution_count": 24,
   "metadata": {},
   "outputs": [
    {
     "data": {
      "text/plain": [
       "176"
      ]
     },
     "execution_count": 24,
     "metadata": {},
     "output_type": "execute_result"
    }
   ],
   "source": [
    "rectangles[0][0]"
   ]
  },
  {
   "cell_type": "code",
   "execution_count": 29,
   "metadata": {},
   "outputs": [],
   "source": [
    "pyautogui.click(x = rectangles[0][0], y = rectangles[0][1] ) # click con el boton izquierdo "
   ]
  },
  {
   "cell_type": "code",
   "execution_count": 30,
   "metadata": {},
   "outputs": [],
   "source": [
    "pyautogui.click(x = rectangles[0][0], y = rectangles[0][1], button='right' ) # click boton derecho "
   ]
  },
  {
   "cell_type": "code",
   "execution_count": 28,
   "metadata": {},
   "outputs": [],
   "source": [
    "pyautogui.moveTo(x= 1, y = 800)"
   ]
  },
  {
   "cell_type": "code",
   "execution_count": null,
   "metadata": {},
   "outputs": [],
   "source": []
  },
  {
   "cell_type": "code",
   "execution_count": 9,
   "metadata": {},
   "outputs": [],
   "source": [
    "sct = mss.mss()\n",
    "monitor = {\"top\": 20, \"left\": 0, \"width\": 1050, \"height\": 680}"
   ]
  },
  {
   "cell_type": "code",
   "execution_count": null,
   "metadata": {},
   "outputs": [],
   "source": [
    "scr = numpy.array(sct.grab(monitor))"
   ]
  },
  {
   "cell_type": "code",
   "execution_count": 10,
   "metadata": {},
   "outputs": [
    {
     "name": "stdout",
     "output_type": "stream",
     "text": [
      "monitor-1.png\n"
     ]
    }
   ],
   "source": []
  },
  {
   "cell_type": "code",
   "execution_count": 20,
   "metadata": {},
   "outputs": [],
   "source": []
  },
  {
   "cell_type": "code",
   "execution_count": 21,
   "metadata": {},
   "outputs": [],
   "source": []
  },
  {
   "cell_type": "code",
   "execution_count": null,
   "metadata": {},
   "outputs": [],
   "source": [
    "with mss.mss() as sct:\n",
    "  while True:\n",
    "    screen = sct.grab(monitor)\n",
    "    process_image(screen)\n",
    "    if trigger_to_leave:\n",
    "      break"
   ]
  }
 ],
 "metadata": {
  "kernelspec": {
   "display_name": "Python 3",
   "language": "python",
   "name": "python3"
  },
  "language_info": {
   "codemirror_mode": {
    "name": "ipython",
    "version": 3
   },
   "file_extension": ".py",
   "mimetype": "text/x-python",
   "name": "python",
   "nbconvert_exporter": "python",
   "pygments_lexer": "ipython3",
   "version": "3.8.3"
  }
 },
 "nbformat": 4,
 "nbformat_minor": 4
}
